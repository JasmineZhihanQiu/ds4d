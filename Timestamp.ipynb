{
 "cells": [
  {
   "cell_type": "markdown",
   "metadata": {},
   "source": [
    "# Assignment 2"
   ]
  },
  {
   "cell_type": "markdown",
   "metadata": {},
   "source": [
    "The topic of our data is `Understanding electrical energy use in the home`. \n",
    "\n",
    "We got three CSV tabular files from data holders including measured data, inferred data and basic information of households. Measured data and inferred data have seven same columns. However, inferred data use ML algorithms based on the whole house electricity data or measured using an appliance monitor in the home, and its data is too large to upload to Notable. Therefore, I use the measured data for this assignment only. For the basic information of households file, it contains the information about home id for inference.\n",
    "\n",
    "After discussion, our group members devided the data into three category by topic (also considering the size of the data):\n",
    "1. the data in kitchen(including the data from electronic hob, electronic oven, kettle, microwave, toaster and grill) \n",
    "2. the data of clean appliances (including dish washer, tumble drier, vacuum cleaner, washing machine and washing machine tumbledrier)\n",
    "3. the shower data (large part of the whole data) and other remaining data (including the data from electronic heater and dehumidifier)\n",
    "\n",
    "I am more interesting in the shower data. Thus I will use the third part of the data for this assignment."
   ]
  },
  {
   "cell_type": "code",
   "execution_count": 156,
   "metadata": {},
   "outputs": [],
   "source": [
    "import pandas as pd\n",
    "import numpy as np"
   ]
  },
  {
   "cell_type": "code",
   "execution_count": 157,
   "metadata": {},
   "outputs": [],
   "source": [
    "measured_data = pd.read_csv(\"measured_bams_one_years.csv\")\n",
    "home_data = pd.read_csv(\"home_details.csv\")"
   ]
  },
  {
   "cell_type": "code",
   "execution_count": 158,
   "metadata": {},
   "outputs": [],
   "source": [
    "measured_data = measured_data.copy()\n",
    "home_data = home_data.copy() "
   ]
  },
  {
   "cell_type": "markdown",
   "metadata": {},
   "source": [
    "## Part 1 - Describe ( with Cleaning Data)"
   ]
  },
  {
   "cell_type": "markdown",
   "metadata": {},
   "source": [
    "### 1. The General Type of The Data"
   ]
  },
  {
   "cell_type": "markdown",
   "metadata": {},
   "source": [
    "From the first 5 rows of these two data we can know these data are `tabulars`."
   ]
  },
  {
   "cell_type": "code",
   "execution_count": 159,
   "metadata": {},
   "outputs": [
    {
     "data": {
      "text/html": [
       "<div>\n",
       "<style scoped>\n",
       "    .dataframe tbody tr th:only-of-type {\n",
       "        vertical-align: middle;\n",
       "    }\n",
       "\n",
       "    .dataframe tbody tr th {\n",
       "        vertical-align: top;\n",
       "    }\n",
       "\n",
       "    .dataframe thead th {\n",
       "        text-align: right;\n",
       "    }\n",
       "</style>\n",
       "<table border=\"1\" class=\"dataframe\">\n",
       "  <thead>\n",
       "    <tr style=\"text-align: right;\">\n",
       "      <th></th>\n",
       "      <th>useid</th>\n",
       "      <th>homeid</th>\n",
       "      <th>appliancetype</th>\n",
       "      <th>applianceid</th>\n",
       "      <th>starttime</th>\n",
       "      <th>endtime</th>\n",
       "      <th>watthoursused</th>\n",
       "      <th>type</th>\n",
       "    </tr>\n",
       "  </thead>\n",
       "  <tbody>\n",
       "    <tr>\n",
       "      <th>0</th>\n",
       "      <td>627720</td>\n",
       "      <td>63</td>\n",
       "      <td>kettle</td>\n",
       "      <td>1019</td>\n",
       "      <td>06/07/2017 16:50</td>\n",
       "      <td>06/07/2017 16:52</td>\n",
       "      <td>84</td>\n",
       "      <td>measured</td>\n",
       "    </tr>\n",
       "    <tr>\n",
       "      <th>1</th>\n",
       "      <td>627721</td>\n",
       "      <td>63</td>\n",
       "      <td>kettle</td>\n",
       "      <td>1019</td>\n",
       "      <td>06/07/2017 20:35</td>\n",
       "      <td>06/07/2017 20:36</td>\n",
       "      <td>56</td>\n",
       "      <td>measured</td>\n",
       "    </tr>\n",
       "    <tr>\n",
       "      <th>2</th>\n",
       "      <td>627722</td>\n",
       "      <td>63</td>\n",
       "      <td>kettle</td>\n",
       "      <td>1019</td>\n",
       "      <td>06/07/2017 20:38</td>\n",
       "      <td>06/07/2017 20:39</td>\n",
       "      <td>51</td>\n",
       "      <td>measured</td>\n",
       "    </tr>\n",
       "    <tr>\n",
       "      <th>3</th>\n",
       "      <td>627723</td>\n",
       "      <td>63</td>\n",
       "      <td>kettle</td>\n",
       "      <td>1019</td>\n",
       "      <td>07/07/2017 15:45</td>\n",
       "      <td>07/07/2017 15:47</td>\n",
       "      <td>73</td>\n",
       "      <td>measured</td>\n",
       "    </tr>\n",
       "    <tr>\n",
       "      <th>4</th>\n",
       "      <td>627724</td>\n",
       "      <td>63</td>\n",
       "      <td>kettle</td>\n",
       "      <td>1019</td>\n",
       "      <td>07/07/2017 20:18</td>\n",
       "      <td>07/07/2017 20:19</td>\n",
       "      <td>96</td>\n",
       "      <td>measured</td>\n",
       "    </tr>\n",
       "  </tbody>\n",
       "</table>\n",
       "</div>"
      ],
      "text/plain": [
       "    useid  homeid appliancetype  applianceid         starttime  \\\n",
       "0  627720      63        kettle         1019  06/07/2017 16:50   \n",
       "1  627721      63        kettle         1019  06/07/2017 20:35   \n",
       "2  627722      63        kettle         1019  06/07/2017 20:38   \n",
       "3  627723      63        kettle         1019  07/07/2017 15:45   \n",
       "4  627724      63        kettle         1019  07/07/2017 20:18   \n",
       "\n",
       "            endtime  watthoursused      type  \n",
       "0  06/07/2017 16:52             84  measured  \n",
       "1  06/07/2017 20:36             56  measured  \n",
       "2  06/07/2017 20:39             51  measured  \n",
       "3  07/07/2017 15:47             73  measured  \n",
       "4  07/07/2017 20:19             96  measured  "
      ]
     },
     "execution_count": 159,
     "metadata": {},
     "output_type": "execute_result"
    }
   ],
   "source": [
    "measured_data.head()"
   ]
  },
  {
   "cell_type": "code",
   "execution_count": 160,
   "metadata": {},
   "outputs": [
    {
     "data": {
      "text/html": [
       "<div>\n",
       "<style scoped>\n",
       "    .dataframe tbody tr th:only-of-type {\n",
       "        vertical-align: middle;\n",
       "    }\n",
       "\n",
       "    .dataframe tbody tr th {\n",
       "        vertical-align: top;\n",
       "    }\n",
       "\n",
       "    .dataframe thead th {\n",
       "        text-align: right;\n",
       "    }\n",
       "</style>\n",
       "<table border=\"1\" class=\"dataframe\">\n",
       "  <thead>\n",
       "    <tr style=\"text-align: right;\">\n",
       "      <th></th>\n",
       "      <th>homeid</th>\n",
       "      <th>stdinstalltime</th>\n",
       "      <th>residents</th>\n",
       "      <th>ageband1</th>\n",
       "      <th>ageband2</th>\n",
       "      <th>ageband3</th>\n",
       "      <th>ageband4</th>\n",
       "      <th>studyperiod_end_time</th>\n",
       "      <th>income_YEARLY_band_low</th>\n",
       "      <th>income_YEARLY_band_high</th>\n",
       "      <th>income_YEARLY_band_midpoint</th>\n",
       "      <th>equivalised_income_YEARLY_midpoint</th>\n",
       "      <th>single_occ</th>\n",
       "      <th>above_med_equiv_income</th>\n",
       "    </tr>\n",
       "  </thead>\n",
       "  <tbody>\n",
       "    <tr>\n",
       "      <th>0</th>\n",
       "      <td>47</td>\n",
       "      <td>10/08/2016 00:00</td>\n",
       "      <td>2.0</td>\n",
       "      <td>25-29</td>\n",
       "      <td>20-24</td>\n",
       "      <td>NaN</td>\n",
       "      <td>NaN</td>\n",
       "      <td>08/05/2017 09:00</td>\n",
       "      <td>NaN</td>\n",
       "      <td>NaN</td>\n",
       "      <td>NaN</td>\n",
       "      <td>NaN</td>\n",
       "      <td>FALSE</td>\n",
       "      <td>Missing income data</td>\n",
       "    </tr>\n",
       "    <tr>\n",
       "      <th>1</th>\n",
       "      <td>59</td>\n",
       "      <td>06/10/2016 00:00</td>\n",
       "      <td>2.0</td>\n",
       "      <td>30-34</td>\n",
       "      <td>30-34</td>\n",
       "      <td>0-4</td>\n",
       "      <td>NaN</td>\n",
       "      <td>28/01/2018 07:56</td>\n",
       "      <td>90000.0</td>\n",
       "      <td>104999.0</td>\n",
       "      <td>97499.5</td>\n",
       "      <td>54166.38889</td>\n",
       "      <td>FALSE</td>\n",
       "      <td>TRUE</td>\n",
       "    </tr>\n",
       "    <tr>\n",
       "      <th>2</th>\n",
       "      <td>61</td>\n",
       "      <td>06/10/2016 00:00</td>\n",
       "      <td>2.0</td>\n",
       "      <td>50-54</td>\n",
       "      <td>55-59</td>\n",
       "      <td>NaN</td>\n",
       "      <td>NaN</td>\n",
       "      <td>19/10/2017 07:00</td>\n",
       "      <td>48600.0</td>\n",
       "      <td>53999.0</td>\n",
       "      <td>51299.5</td>\n",
       "      <td>34199.66667</td>\n",
       "      <td>FALSE</td>\n",
       "      <td>TRUE</td>\n",
       "    </tr>\n",
       "    <tr>\n",
       "      <th>3</th>\n",
       "      <td>62</td>\n",
       "      <td>26/08/2016 00:00</td>\n",
       "      <td>2.0</td>\n",
       "      <td>30-34</td>\n",
       "      <td>30-34</td>\n",
       "      <td>NaN</td>\n",
       "      <td>NaN</td>\n",
       "      <td>31/12/2018 23:59</td>\n",
       "      <td>43200.0</td>\n",
       "      <td>48599.0</td>\n",
       "      <td>45899.5</td>\n",
       "      <td>30599.66667</td>\n",
       "      <td>FALSE</td>\n",
       "      <td>TRUE</td>\n",
       "    </tr>\n",
       "    <tr>\n",
       "      <th>4</th>\n",
       "      <td>63</td>\n",
       "      <td>28/10/2016 00:00</td>\n",
       "      <td>2.0</td>\n",
       "      <td>40-44</td>\n",
       "      <td>35-39</td>\n",
       "      <td>NaN</td>\n",
       "      <td>NaN</td>\n",
       "      <td>31/12/2018 23:59</td>\n",
       "      <td>54000.0</td>\n",
       "      <td>65999.0</td>\n",
       "      <td>59999.5</td>\n",
       "      <td>39999.66667</td>\n",
       "      <td>FALSE</td>\n",
       "      <td>TRUE</td>\n",
       "    </tr>\n",
       "  </tbody>\n",
       "</table>\n",
       "</div>"
      ],
      "text/plain": [
       "   homeid    stdinstalltime  residents ageband1 ageband2 ageband3 ageband4  \\\n",
       "0      47  10/08/2016 00:00        2.0    25-29    20-24      NaN      NaN   \n",
       "1      59  06/10/2016 00:00        2.0    30-34    30-34      0-4      NaN   \n",
       "2      61  06/10/2016 00:00        2.0    50-54    55-59      NaN      NaN   \n",
       "3      62  26/08/2016 00:00        2.0    30-34    30-34      NaN      NaN   \n",
       "4      63  28/10/2016 00:00        2.0    40-44    35-39      NaN      NaN   \n",
       "\n",
       "  studyperiod_end_time  income_YEARLY_band_low  income_YEARLY_band_high  \\\n",
       "0     08/05/2017 09:00                     NaN                      NaN   \n",
       "1     28/01/2018 07:56                 90000.0                 104999.0   \n",
       "2     19/10/2017 07:00                 48600.0                  53999.0   \n",
       "3     31/12/2018 23:59                 43200.0                  48599.0   \n",
       "4     31/12/2018 23:59                 54000.0                  65999.0   \n",
       "\n",
       "   income_YEARLY_band_midpoint  equivalised_income_YEARLY_midpoint single_occ  \\\n",
       "0                          NaN                                 NaN      FALSE   \n",
       "1                      97499.5                         54166.38889      FALSE   \n",
       "2                      51299.5                         34199.66667      FALSE   \n",
       "3                      45899.5                         30599.66667      FALSE   \n",
       "4                      59999.5                         39999.66667      FALSE   \n",
       "\n",
       "  above_med_equiv_income  \n",
       "0    Missing income data  \n",
       "1                   TRUE  \n",
       "2                   TRUE  \n",
       "3                   TRUE  \n",
       "4                   TRUE  "
      ]
     },
     "execution_count": 160,
     "metadata": {},
     "output_type": "execute_result"
    }
   ],
   "source": [
    "home_data.head()"
   ]
  },
  {
   "cell_type": "code",
   "execution_count": 161,
   "metadata": {},
   "outputs": [
    {
     "data": {
      "text/plain": [
       "dict_keys(['kettle', 'microwave', 'washingmachinetumbledrier', 'dishwasher', 'vacuumcleaner', 'washingmachine', 'electricoven', 'electricshower', 'electrichob', 'toaster', 'electricheater', 'grill', 'dehumidifier', 'tumbledrier'])"
      ]
     },
     "execution_count": 161,
     "metadata": {},
     "output_type": "execute_result"
    }
   ],
   "source": [
    "a2 = {}.fromkeys(measured_data['appliancetype']).keys()\n",
    "a2"
   ]
  },
  {
   "cell_type": "code",
   "execution_count": 162,
   "metadata": {},
   "outputs": [
    {
     "data": {
      "text/plain": [
       "14"
      ]
     },
     "execution_count": 162,
     "metadata": {},
     "output_type": "execute_result"
    }
   ],
   "source": [
    "a = ['kettle', 'microwave', 'washingmachinetumbledrier', 'dishwasher', 'vacuumcleaner', 'washingmachine', 'electricoven', 'electricshower', 'electrichob', 'toaster', 'electricheater', 'grill', 'dehumidifier', 'tumbledrier']\n",
    "len(a)"
   ]
  },
  {
   "cell_type": "code",
   "execution_count": 163,
   "metadata": {},
   "outputs": [
    {
     "data": {
      "text/plain": [
       "dict_keys([47, 59, 61, 62, 63, 64, 65, 66, 67, 68, 69, 70, 71, 72, 73, 74, 75, 76, 77, 78, 79, 80, 81, 82, 83, 84, 85, 86, 88, 89, 90, 91, 92, 93, 94, 96, 97, 98, 99, 100, 101, 102, 103, 105, 106, 107, 109, 110, 113, 114, 115, 116, 117, 118, 119, 120, 121, 122, 123, 124, 125, 126, 128, 129, 133, 134, 135, 136, 137, 138, 139, 140, 141, 143, 144, 145, 146, 147, 148, 149, 150, 151, 152, 153, 154, 155, 156, 157, 158, 159, 160, 161, 162, 163, 164, 165, 166, 167, 168, 169, 170, 171, 172, 173, 174, 175, 176, 177, 178, 179, 180, 181, 182, 183, 184, 185, 186, 187, 188, 189, 190, 191, 192, 193, 194, 195, 197, 199, 200, 201, 202, 203, 205, 206, 207, 208, 209, 210, 211, 212, 213, 214, 215, 216, 218, 219, 221, 222, 223, 224, 225, 226, 227, 228, 229, 230, 231, 232, 233, 234, 235, 236, 237, 238, 239, 240, 241, 242, 243, 244, 245, 246, 247, 248, 249, 250, 251, 252, 253, 254, 255, 256, 257, 258, 259, 260, 261, 262, 263, 264, 265, 266, 267, 268, 269, 270, 271, 272, 273, 274, 275, 276, 277, 278, 279, 280, 281, 282, 283, 284, 285, 286, 287, 288, 289, 290, 291, 292, 293, 294, 295, 296, 298, 299, 300, 301, 302, 303, 304, 305, 306, 307, 308, 309, 310, 311, 313, 315, 316, 317, 318, 319, 320, 321, 322, 323, 325, 326, 327, 328, 329, 330, 331, 332, 333, 334, 335])"
      ]
     },
     "execution_count": 163,
     "metadata": {},
     "output_type": "execute_result"
    }
   ],
   "source": [
    "a2 = {}.fromkeys(home_data['homeid']).keys()\n",
    "a2"
   ]
  },
  {
   "cell_type": "code",
   "execution_count": 164,
   "metadata": {},
   "outputs": [
    {
     "data": {
      "text/plain": [
       "257"
      ]
     },
     "execution_count": 164,
     "metadata": {},
     "output_type": "execute_result"
    }
   ],
   "source": [
    "a = [47, 59, 61, 62, 63, 64, 65, 66, 67, 68, 69, 70, 71, 72, 73, 74, 75, 76, 77, 78, 79, 80, 81, 82, 83, 84, 85, 86, 88, 89, 90, 91, 92, 93, 94, 96, 97, 98, 99, 100, 101, 102, 103, 105, 106, 107, 109, 110, 113, 114, 115, 116, 117, 118, 119, 120, 121, 122, 123, 124, 125, 126, 128, 129, 133, 134, 135, 136, 137, 138, 139, 140, 141, 143, 144, 145, 146, 147, 148, 149, 150, 151, 152, 153, 154, 155, 156, 157, 158, 159, 160, 161, 162, 163, 164, 165, 166, 167, 168, 169, 170, 171, 172, 173, 174, 175, 176, 177, 178, 179, 180, 181, 182, 183, 184, 185, 186, 187, 188, 189, 190, 191, 192, 193, 194, 195, 197, 199, 200, 201, 202, 203, 205, 206, 207, 208, 209, 210, 211, 212, 213, 214, 215, 216, 218, 219, 221, 222, 223, 224, 225, 226, 227, 228, 229, 230, 231, 232, 233, 234, 235, 236, 237, 238, 239, 240, 241, 242, 243, 244, 245, 246, 247, 248, 249, 250, 251, 252, 253, 254, 255, 256, 257, 258, 259, 260, 261, 262, 263, 264, 265, 266, 267, 268, 269, 270, 271, 272, 273, 274, 275, 276, 277, 278, 279, 280, 281, 282, 283, 284, 285, 286, 287, 288, 289, 290, 291, 292, 293, 294, 295, 296, 298, 299, 300, 301, 302, 303, 304, 305, 306, 307, 308, 309, 310, 311, 313, 315, 316, 317, 318, 319, 320, 321, 322, 323, 325, 326, 327, 328, 329, 330, 331, 332, 333, 334, 335]\n",
    "len(a)"
   ]
  },
  {
   "cell_type": "markdown",
   "metadata": {},
   "source": [
    "### Extra. Data Cleaning"
   ]
  },
  {
   "cell_type": "markdown",
   "metadata": {},
   "source": [
    "**[Data Cleaning 1]** In the measured data the type of `starttime` and `endtime` columns should be timestamp. "
   ]
  },
  {
   "cell_type": "code",
   "execution_count": 165,
   "metadata": {},
   "outputs": [],
   "source": [
    "import re\n",
    "import datetime as dt\n",
    "import time\n",
    "import calendar\n",
    "\n",
    "def timeconvert(time):\n",
    "    timelist=[]\n",
    "    for a in time:\n",
    "        zero = re.compile(',0')\n",
    "        new_zero = zero.sub(',',a)\n",
    "        slash = re.compile('/')\n",
    "        new_slach = slash.sub(',',new_zero)\n",
    "        colon = re.compile(':')\n",
    "        new_colon = colon.sub(',',new_slach)\n",
    "        space = re.compile(' ')\n",
    "        new_space = space.sub(',',new_colon)\n",
    "\n",
    "        if int(new_space[0])>0:\n",
    "            newlist = new_space\n",
    "        else:\n",
    "            newlist = new_space[1:]\n",
    "            \n",
    "        timelist.append(newlist)\n",
    "    timeSer = pd.Series(timelist)\n",
    "    return timeSer\n",
    "\n",
    "a = measured_data['starttime']\n",
    "measured_data.loc[:,'starttime'] = timeconvert(a)\n",
    "b = measured_data['endtime']\n",
    "measured_data.loc[:,'endtime'] = timeconvert(b)\n",
    "\n",
    "def timestamp(time):\n",
    "    timelist=[]\n",
    "    for a in time:\n",
    "        format = '%d,%m,%Y,%H,%M'\n",
    "        date = dt.datetime.strptime(a,format) \n",
    "        ts = calendar.timegm(date.timetuple())\n",
    "        timelist.append(ts)\n",
    "    timestamp = pd.Series(timelist)\n",
    "    return timestamp\n",
    "\n",
    "a = measured_data['starttime']\n",
    "measured_data.loc[:,'starttime'] = timestamp(a)\n",
    "b = measured_data['endtime']\n",
    "measured_data.loc[:,'endtime'] = timestamp(b)"
   ]
  },
  {
   "cell_type": "markdown",
   "metadata": {},
   "source": [
    "**[Data Cleaning 2]** Also dose the `stdinstalltime` and `studyperiod_end_time` in the basic information of household should be timestamp."
   ]
  },
  {
   "cell_type": "code",
   "execution_count": 166,
   "metadata": {},
   "outputs": [],
   "source": [
    "a = home_data['stdinstalltime']\n",
    "home_data.loc[:,'stdinstalltime'] = timeconvert(a)\n",
    "b = home_data['studyperiod_end_time']\n",
    "home_data.loc[:,'studyperiod_end_time'] = timeconvert(b)\n",
    "\n",
    "a = home_data['stdinstalltime']\n",
    "home_data.loc[:,'stdinstalltime'] = timestamp(a)\n",
    "b = home_data['studyperiod_end_time']\n",
    "home_data.loc[:,'studyperiod_end_time'] = timestamp(b)"
   ]
  },
  {
   "cell_type": "markdown",
   "metadata": {},
   "source": [
    "**[Data Cleaning 3]** the age band should be matched to the number of residents. (eg. if there are two numbers in the house, the age band should have values in two columns. And also appear `Oct` and `Sep` in the data."
   ]
  },
  {
   "cell_type": "code",
   "execution_count": 167,
   "metadata": {},
   "outputs": [
    {
     "data": {
      "text/html": [
       "<div>\n",
       "<style scoped>\n",
       "    .dataframe tbody tr th:only-of-type {\n",
       "        vertical-align: middle;\n",
       "    }\n",
       "\n",
       "    .dataframe tbody tr th {\n",
       "        vertical-align: top;\n",
       "    }\n",
       "\n",
       "    .dataframe thead th {\n",
       "        text-align: right;\n",
       "    }\n",
       "</style>\n",
       "<table border=\"1\" class=\"dataframe\">\n",
       "  <thead>\n",
       "    <tr style=\"text-align: right;\">\n",
       "      <th></th>\n",
       "      <th>homeid</th>\n",
       "      <th>stdinstalltime</th>\n",
       "      <th>residents</th>\n",
       "      <th>ageband1</th>\n",
       "      <th>ageband2</th>\n",
       "      <th>ageband3</th>\n",
       "      <th>ageband4</th>\n",
       "      <th>studyperiod_end_time</th>\n",
       "      <th>income_YEARLY_band_low</th>\n",
       "      <th>income_YEARLY_band_high</th>\n",
       "      <th>income_YEARLY_band_midpoint</th>\n",
       "      <th>equivalised_income_YEARLY_midpoint</th>\n",
       "      <th>single_occ</th>\n",
       "      <th>above_med_equiv_income</th>\n",
       "    </tr>\n",
       "  </thead>\n",
       "  <tbody>\n",
       "    <tr>\n",
       "      <th>62</th>\n",
       "      <td>128</td>\n",
       "      <td>1498123500</td>\n",
       "      <td>1.0</td>\n",
       "      <td>40-44</td>\n",
       "      <td>40-44</td>\n",
       "      <td>NaN</td>\n",
       "      <td>NaN</td>\n",
       "      <td>1546300740</td>\n",
       "      <td>23400.0</td>\n",
       "      <td>26999.0</td>\n",
       "      <td>25199.5</td>\n",
       "      <td>16799.66667</td>\n",
       "      <td>TRUE</td>\n",
       "      <td>FALSE</td>\n",
       "    </tr>\n",
       "    <tr>\n",
       "      <th>193</th>\n",
       "      <td>268</td>\n",
       "      <td>1512721680</td>\n",
       "      <td>1.0</td>\n",
       "      <td>40-44</td>\n",
       "      <td>40-44</td>\n",
       "      <td>NaN</td>\n",
       "      <td>NaN</td>\n",
       "      <td>1546300740</td>\n",
       "      <td>27000.0</td>\n",
       "      <td>32399.0</td>\n",
       "      <td>29699.5</td>\n",
       "      <td>19799.66667</td>\n",
       "      <td>TRUE</td>\n",
       "      <td>FALSE</td>\n",
       "    </tr>\n",
       "    <tr>\n",
       "      <th>245</th>\n",
       "      <td>323</td>\n",
       "      <td>1521809760</td>\n",
       "      <td>1.0</td>\n",
       "      <td>60-64</td>\n",
       "      <td>60-64</td>\n",
       "      <td>NaN</td>\n",
       "      <td>NaN</td>\n",
       "      <td>1546300740</td>\n",
       "      <td>19800.0</td>\n",
       "      <td>23399.0</td>\n",
       "      <td>21599.5</td>\n",
       "      <td>14399.66667</td>\n",
       "      <td>TRUE</td>\n",
       "      <td>FALSE</td>\n",
       "    </tr>\n",
       "  </tbody>\n",
       "</table>\n",
       "</div>"
      ],
      "text/plain": [
       "     homeid  stdinstalltime  residents ageband1 ageband2 ageband3 ageband4  \\\n",
       "62      128      1498123500        1.0    40-44    40-44      NaN      NaN   \n",
       "193     268      1512721680        1.0    40-44    40-44      NaN      NaN   \n",
       "245     323      1521809760        1.0    60-64    60-64      NaN      NaN   \n",
       "\n",
       "     studyperiod_end_time  income_YEARLY_band_low  income_YEARLY_band_high  \\\n",
       "62             1546300740                 23400.0                  26999.0   \n",
       "193            1546300740                 27000.0                  32399.0   \n",
       "245            1546300740                 19800.0                  23399.0   \n",
       "\n",
       "     income_YEARLY_band_midpoint  equivalised_income_YEARLY_midpoint  \\\n",
       "62                       25199.5                         16799.66667   \n",
       "193                      29699.5                         19799.66667   \n",
       "245                      21599.5                         14399.66667   \n",
       "\n",
       "    single_occ above_med_equiv_income  \n",
       "62        TRUE                  FALSE  \n",
       "193       TRUE                  FALSE  \n",
       "245       TRUE                  FALSE  "
      ]
     },
     "execution_count": 167,
     "metadata": {},
     "output_type": "execute_result"
    }
   ],
   "source": [
    "home_data[home_data['residents']==1][home_data[home_data['residents']==1]['ageband2'].notnull()]"
   ]
  },
  {
   "cell_type": "code",
   "execution_count": 168,
   "metadata": {},
   "outputs": [],
   "source": [
    "home_data.iloc[62,4]='NaN'\n",
    "home_data.iloc[193,4]='NaN'\n",
    "home_data.iloc[245,4]='NaN'"
   ]
  },
  {
   "cell_type": "code",
   "execution_count": 169,
   "metadata": {},
   "outputs": [
    {
     "data": {
      "text/html": [
       "<div>\n",
       "<style scoped>\n",
       "    .dataframe tbody tr th:only-of-type {\n",
       "        vertical-align: middle;\n",
       "    }\n",
       "\n",
       "    .dataframe tbody tr th {\n",
       "        vertical-align: top;\n",
       "    }\n",
       "\n",
       "    .dataframe thead th {\n",
       "        text-align: right;\n",
       "    }\n",
       "</style>\n",
       "<table border=\"1\" class=\"dataframe\">\n",
       "  <thead>\n",
       "    <tr style=\"text-align: right;\">\n",
       "      <th></th>\n",
       "      <th>homeid</th>\n",
       "      <th>stdinstalltime</th>\n",
       "      <th>residents</th>\n",
       "      <th>ageband1</th>\n",
       "      <th>ageband2</th>\n",
       "      <th>ageband3</th>\n",
       "      <th>ageband4</th>\n",
       "      <th>studyperiod_end_time</th>\n",
       "      <th>income_YEARLY_band_low</th>\n",
       "      <th>income_YEARLY_band_high</th>\n",
       "      <th>income_YEARLY_band_midpoint</th>\n",
       "      <th>equivalised_income_YEARLY_midpoint</th>\n",
       "      <th>single_occ</th>\n",
       "      <th>above_med_equiv_income</th>\n",
       "    </tr>\n",
       "  </thead>\n",
       "  <tbody>\n",
       "    <tr>\n",
       "      <th>1</th>\n",
       "      <td>59</td>\n",
       "      <td>1475712000</td>\n",
       "      <td>2.0</td>\n",
       "      <td>30-34</td>\n",
       "      <td>30-34</td>\n",
       "      <td>0-4</td>\n",
       "      <td>NaN</td>\n",
       "      <td>1517126160</td>\n",
       "      <td>90000.0</td>\n",
       "      <td>104999.0</td>\n",
       "      <td>97499.5</td>\n",
       "      <td>54166.38889</td>\n",
       "      <td>FALSE</td>\n",
       "      <td>TRUE</td>\n",
       "    </tr>\n",
       "    <tr>\n",
       "      <th>49</th>\n",
       "      <td>114</td>\n",
       "      <td>1497339180</td>\n",
       "      <td>2.0</td>\n",
       "      <td>30-34</td>\n",
       "      <td>30-34</td>\n",
       "      <td>30-34</td>\n",
       "      <td>NaN</td>\n",
       "      <td>1546300740</td>\n",
       "      <td>4200.0</td>\n",
       "      <td>5399.0</td>\n",
       "      <td>4799.5</td>\n",
       "      <td>2399.75000</td>\n",
       "      <td>FALSE</td>\n",
       "      <td>FALSE</td>\n",
       "    </tr>\n",
       "    <tr>\n",
       "      <th>97</th>\n",
       "      <td>167</td>\n",
       "      <td>1472000400</td>\n",
       "      <td>2.0</td>\n",
       "      <td>25-29</td>\n",
       "      <td>30-34</td>\n",
       "      <td>0-4</td>\n",
       "      <td>NaN</td>\n",
       "      <td>1528965000</td>\n",
       "      <td>48600.0</td>\n",
       "      <td>53999.0</td>\n",
       "      <td>51299.5</td>\n",
       "      <td>28499.72222</td>\n",
       "      <td>FALSE</td>\n",
       "      <td>TRUE</td>\n",
       "    </tr>\n",
       "    <tr>\n",
       "      <th>160</th>\n",
       "      <td>235</td>\n",
       "      <td>1509698220</td>\n",
       "      <td>2.0</td>\n",
       "      <td>35-39</td>\n",
       "      <td>30-34</td>\n",
       "      <td>30-34</td>\n",
       "      <td>NaN</td>\n",
       "      <td>1546300740</td>\n",
       "      <td>90000.0</td>\n",
       "      <td>104999.0</td>\n",
       "      <td>97499.5</td>\n",
       "      <td>48749.75000</td>\n",
       "      <td>FALSE</td>\n",
       "      <td>TRUE</td>\n",
       "    </tr>\n",
       "  </tbody>\n",
       "</table>\n",
       "</div>"
      ],
      "text/plain": [
       "     homeid  stdinstalltime  residents ageband1 ageband2 ageband3 ageband4  \\\n",
       "1        59      1475712000        2.0    30-34    30-34      0-4      NaN   \n",
       "49      114      1497339180        2.0    30-34    30-34    30-34      NaN   \n",
       "97      167      1472000400        2.0    25-29    30-34      0-4      NaN   \n",
       "160     235      1509698220        2.0    35-39    30-34    30-34      NaN   \n",
       "\n",
       "     studyperiod_end_time  income_YEARLY_band_low  income_YEARLY_band_high  \\\n",
       "1              1517126160                 90000.0                 104999.0   \n",
       "49             1546300740                  4200.0                   5399.0   \n",
       "97             1528965000                 48600.0                  53999.0   \n",
       "160            1546300740                 90000.0                 104999.0   \n",
       "\n",
       "     income_YEARLY_band_midpoint  equivalised_income_YEARLY_midpoint  \\\n",
       "1                        97499.5                         54166.38889   \n",
       "49                        4799.5                          2399.75000   \n",
       "97                       51299.5                         28499.72222   \n",
       "160                      97499.5                         48749.75000   \n",
       "\n",
       "    single_occ above_med_equiv_income  \n",
       "1        FALSE                   TRUE  \n",
       "49       FALSE                  FALSE  \n",
       "97       FALSE                   TRUE  \n",
       "160      FALSE                   TRUE  "
      ]
     },
     "execution_count": 169,
     "metadata": {},
     "output_type": "execute_result"
    }
   ],
   "source": [
    "home_data[home_data['residents']==2][home_data[home_data['residents']==2]['ageband3'].notnull()]"
   ]
  },
  {
   "cell_type": "code",
   "execution_count": 170,
   "metadata": {},
   "outputs": [],
   "source": [
    "home_data.iloc[49,5]='NaN'\n",
    "home_data.iloc[160,5]='NaN'"
   ]
  },
  {
   "cell_type": "markdown",
   "metadata": {},
   "source": [
    "There may be 3 residents in row 1 and row 49 accroding the column `ageband3`."
   ]
  },
  {
   "cell_type": "code",
   "execution_count": 171,
   "metadata": {},
   "outputs": [],
   "source": [
    "home_data.iloc[1,2]=3\n",
    "home_data.iloc[97,2]=3"
   ]
  },
  {
   "cell_type": "code",
   "execution_count": 172,
   "metadata": {},
   "outputs": [
    {
     "data": {
      "text/html": [
       "<div>\n",
       "<style scoped>\n",
       "    .dataframe tbody tr th:only-of-type {\n",
       "        vertical-align: middle;\n",
       "    }\n",
       "\n",
       "    .dataframe tbody tr th {\n",
       "        vertical-align: top;\n",
       "    }\n",
       "\n",
       "    .dataframe thead th {\n",
       "        text-align: right;\n",
       "    }\n",
       "</style>\n",
       "<table border=\"1\" class=\"dataframe\">\n",
       "  <thead>\n",
       "    <tr style=\"text-align: right;\">\n",
       "      <th></th>\n",
       "      <th>homeid</th>\n",
       "      <th>stdinstalltime</th>\n",
       "      <th>residents</th>\n",
       "      <th>ageband1</th>\n",
       "      <th>ageband2</th>\n",
       "      <th>ageband3</th>\n",
       "      <th>ageband4</th>\n",
       "      <th>studyperiod_end_time</th>\n",
       "      <th>income_YEARLY_band_low</th>\n",
       "      <th>income_YEARLY_band_high</th>\n",
       "      <th>income_YEARLY_band_midpoint</th>\n",
       "      <th>equivalised_income_YEARLY_midpoint</th>\n",
       "      <th>single_occ</th>\n",
       "      <th>above_med_equiv_income</th>\n",
       "    </tr>\n",
       "  </thead>\n",
       "  <tbody>\n",
       "    <tr>\n",
       "      <th>7</th>\n",
       "      <td>66</td>\n",
       "      <td>1479859200</td>\n",
       "      <td>3.0</td>\n",
       "      <td>30-34</td>\n",
       "      <td>35-39</td>\n",
       "      <td>0-4</td>\n",
       "      <td>0-4</td>\n",
       "      <td>1530399540</td>\n",
       "      <td>66000.0</td>\n",
       "      <td>77999.0</td>\n",
       "      <td>71999.5</td>\n",
       "      <td>34285.47619</td>\n",
       "      <td>FALSE</td>\n",
       "      <td>TRUE</td>\n",
       "    </tr>\n",
       "  </tbody>\n",
       "</table>\n",
       "</div>"
      ],
      "text/plain": [
       "   homeid  stdinstalltime  residents ageband1 ageband2 ageband3 ageband4  \\\n",
       "7      66      1479859200        3.0    30-34    35-39      0-4      0-4   \n",
       "\n",
       "   studyperiod_end_time  income_YEARLY_band_low  income_YEARLY_band_high  \\\n",
       "7            1530399540                 66000.0                  77999.0   \n",
       "\n",
       "   income_YEARLY_band_midpoint  equivalised_income_YEARLY_midpoint single_occ  \\\n",
       "7                      71999.5                         34285.47619      FALSE   \n",
       "\n",
       "  above_med_equiv_income  \n",
       "7                   TRUE  "
      ]
     },
     "execution_count": 172,
     "metadata": {},
     "output_type": "execute_result"
    }
   ],
   "source": [
    "home_data[home_data['residents']==3][home_data[home_data['residents']==3]['ageband4'].notnull()]"
   ]
  },
  {
   "cell_type": "code",
   "execution_count": 173,
   "metadata": {},
   "outputs": [],
   "source": [
    "home_data.iloc[7,6]='NaN'"
   ]
  },
  {
   "cell_type": "code",
   "execution_count": 174,
   "metadata": {},
   "outputs": [
    {
     "data": {
      "text/html": [
       "<div>\n",
       "<style scoped>\n",
       "    .dataframe tbody tr th:only-of-type {\n",
       "        vertical-align: middle;\n",
       "    }\n",
       "\n",
       "    .dataframe tbody tr th {\n",
       "        vertical-align: top;\n",
       "    }\n",
       "\n",
       "    .dataframe thead th {\n",
       "        text-align: right;\n",
       "    }\n",
       "</style>\n",
       "<table border=\"1\" class=\"dataframe\">\n",
       "  <thead>\n",
       "    <tr style=\"text-align: right;\">\n",
       "      <th></th>\n",
       "      <th>homeid</th>\n",
       "      <th>stdinstalltime</th>\n",
       "      <th>residents</th>\n",
       "      <th>ageband1</th>\n",
       "      <th>ageband2</th>\n",
       "      <th>ageband3</th>\n",
       "      <th>ageband4</th>\n",
       "      <th>studyperiod_end_time</th>\n",
       "      <th>income_YEARLY_band_low</th>\n",
       "      <th>income_YEARLY_band_high</th>\n",
       "      <th>income_YEARLY_band_midpoint</th>\n",
       "      <th>equivalised_income_YEARLY_midpoint</th>\n",
       "      <th>single_occ</th>\n",
       "      <th>above_med_equiv_income</th>\n",
       "    </tr>\n",
       "  </thead>\n",
       "  <tbody>\n",
       "    <tr>\n",
       "      <th>169</th>\n",
       "      <td>244</td>\n",
       "      <td>1510146000</td>\n",
       "      <td>4.0</td>\n",
       "      <td>35-39</td>\n",
       "      <td>40-44</td>\n",
       "      <td>0-4</td>\n",
       "      <td>NaN</td>\n",
       "      <td>1530403140</td>\n",
       "      <td>19800.0</td>\n",
       "      <td>23399.0</td>\n",
       "      <td>21599.5</td>\n",
       "      <td>11999.72222</td>\n",
       "      <td>FALSE</td>\n",
       "      <td>FALSE</td>\n",
       "    </tr>\n",
       "    <tr>\n",
       "      <th>188</th>\n",
       "      <td>263</td>\n",
       "      <td>1512550200</td>\n",
       "      <td>4.0</td>\n",
       "      <td>30-34</td>\n",
       "      <td>35-39</td>\n",
       "      <td>05-Sep</td>\n",
       "      <td>NaN</td>\n",
       "      <td>1546300740</td>\n",
       "      <td>32400.0</td>\n",
       "      <td>37799.0</td>\n",
       "      <td>35099.5</td>\n",
       "      <td>19499.72222</td>\n",
       "      <td>FALSE</td>\n",
       "      <td>FALSE</td>\n",
       "    </tr>\n",
       "    <tr>\n",
       "      <th>238</th>\n",
       "      <td>316</td>\n",
       "      <td>1521188700</td>\n",
       "      <td>4.0</td>\n",
       "      <td>50-54</td>\n",
       "      <td>45-49</td>\n",
       "      <td>15-19</td>\n",
       "      <td>NaN</td>\n",
       "      <td>1530399540</td>\n",
       "      <td>105000.0</td>\n",
       "      <td>119999.0</td>\n",
       "      <td>112499.5</td>\n",
       "      <td>56249.75000</td>\n",
       "      <td>FALSE</td>\n",
       "      <td>TRUE</td>\n",
       "    </tr>\n",
       "    <tr>\n",
       "      <th>246</th>\n",
       "      <td>325</td>\n",
       "      <td>1522223820</td>\n",
       "      <td>4.0</td>\n",
       "      <td>45-49</td>\n",
       "      <td>NaN</td>\n",
       "      <td>NaN</td>\n",
       "      <td>NaN</td>\n",
       "      <td>1530399540</td>\n",
       "      <td>78000.0</td>\n",
       "      <td>89999.0</td>\n",
       "      <td>83999.5</td>\n",
       "      <td>83999.50000</td>\n",
       "      <td>FALSE</td>\n",
       "      <td>TRUE</td>\n",
       "    </tr>\n",
       "    <tr>\n",
       "      <th>247</th>\n",
       "      <td>326</td>\n",
       "      <td>1522237920</td>\n",
       "      <td>4.0</td>\n",
       "      <td>35-39</td>\n",
       "      <td>NaN</td>\n",
       "      <td>NaN</td>\n",
       "      <td>NaN</td>\n",
       "      <td>1546300740</td>\n",
       "      <td>16200.0</td>\n",
       "      <td>19799.0</td>\n",
       "      <td>17999.5</td>\n",
       "      <td>17999.50000</td>\n",
       "      <td>FALSE</td>\n",
       "      <td>FALSE</td>\n",
       "    </tr>\n",
       "    <tr>\n",
       "      <th>256</th>\n",
       "      <td>335</td>\n",
       "      <td>1525095720</td>\n",
       "      <td>4.0</td>\n",
       "      <td>30-34</td>\n",
       "      <td>35-39</td>\n",
       "      <td>NaN</td>\n",
       "      <td>NaN</td>\n",
       "      <td>1538002740</td>\n",
       "      <td>78000.0</td>\n",
       "      <td>89999.0</td>\n",
       "      <td>83999.5</td>\n",
       "      <td>55999.66667</td>\n",
       "      <td>FALSE</td>\n",
       "      <td>TRUE</td>\n",
       "    </tr>\n",
       "  </tbody>\n",
       "</table>\n",
       "</div>"
      ],
      "text/plain": [
       "     homeid  stdinstalltime  residents ageband1 ageband2 ageband3 ageband4  \\\n",
       "169     244      1510146000        4.0    35-39    40-44      0-4      NaN   \n",
       "188     263      1512550200        4.0    30-34    35-39   05-Sep      NaN   \n",
       "238     316      1521188700        4.0    50-54    45-49    15-19      NaN   \n",
       "246     325      1522223820        4.0    45-49      NaN      NaN      NaN   \n",
       "247     326      1522237920        4.0    35-39      NaN      NaN      NaN   \n",
       "256     335      1525095720        4.0    30-34    35-39      NaN      NaN   \n",
       "\n",
       "     studyperiod_end_time  income_YEARLY_band_low  income_YEARLY_band_high  \\\n",
       "169            1530403140                 19800.0                  23399.0   \n",
       "188            1546300740                 32400.0                  37799.0   \n",
       "238            1530399540                105000.0                 119999.0   \n",
       "246            1530399540                 78000.0                  89999.0   \n",
       "247            1546300740                 16200.0                  19799.0   \n",
       "256            1538002740                 78000.0                  89999.0   \n",
       "\n",
       "     income_YEARLY_band_midpoint  equivalised_income_YEARLY_midpoint  \\\n",
       "169                      21599.5                         11999.72222   \n",
       "188                      35099.5                         19499.72222   \n",
       "238                     112499.5                         56249.75000   \n",
       "246                      83999.5                         83999.50000   \n",
       "247                      17999.5                         17999.50000   \n",
       "256                      83999.5                         55999.66667   \n",
       "\n",
       "    single_occ above_med_equiv_income  \n",
       "169      FALSE                  FALSE  \n",
       "188      FALSE                  FALSE  \n",
       "238      FALSE                   TRUE  \n",
       "246      FALSE                   TRUE  \n",
       "247      FALSE                  FALSE  \n",
       "256      FALSE                   TRUE  "
      ]
     },
     "execution_count": 174,
     "metadata": {},
     "output_type": "execute_result"
    }
   ],
   "source": [
    "home_data[home_data['residents']==4][home_data[home_data['residents']==4]['ageband4'].isnull()]"
   ]
  },
  {
   "cell_type": "markdown",
   "metadata": {},
   "source": [
    "From the tabular above, there some incorrect number in the column of `residents`."
   ]
  },
  {
   "cell_type": "code",
   "execution_count": 175,
   "metadata": {},
   "outputs": [],
   "source": [
    "home_data.iloc[169,2]=3\n",
    "home_data.iloc[188,2]=3\n",
    "home_data.iloc[238,2]=3\n",
    "home_data.iloc[256,2]=3"
   ]
  },
  {
   "cell_type": "code",
   "execution_count": 176,
   "metadata": {},
   "outputs": [
    {
     "data": {
      "text/html": [
       "<div>\n",
       "<style scoped>\n",
       "    .dataframe tbody tr th:only-of-type {\n",
       "        vertical-align: middle;\n",
       "    }\n",
       "\n",
       "    .dataframe tbody tr th {\n",
       "        vertical-align: top;\n",
       "    }\n",
       "\n",
       "    .dataframe thead th {\n",
       "        text-align: right;\n",
       "    }\n",
       "</style>\n",
       "<table border=\"1\" class=\"dataframe\">\n",
       "  <thead>\n",
       "    <tr style=\"text-align: right;\">\n",
       "      <th></th>\n",
       "      <th>homeid</th>\n",
       "      <th>stdinstalltime</th>\n",
       "      <th>residents</th>\n",
       "      <th>ageband1</th>\n",
       "      <th>ageband2</th>\n",
       "      <th>ageband3</th>\n",
       "      <th>ageband4</th>\n",
       "      <th>studyperiod_end_time</th>\n",
       "      <th>income_YEARLY_band_low</th>\n",
       "      <th>income_YEARLY_band_high</th>\n",
       "      <th>income_YEARLY_band_midpoint</th>\n",
       "      <th>equivalised_income_YEARLY_midpoint</th>\n",
       "      <th>single_occ</th>\n",
       "      <th>above_med_equiv_income</th>\n",
       "    </tr>\n",
       "  </thead>\n",
       "  <tbody>\n",
       "    <tr>\n",
       "      <th>246</th>\n",
       "      <td>325</td>\n",
       "      <td>1522223820</td>\n",
       "      <td>4.0</td>\n",
       "      <td>45-49</td>\n",
       "      <td>NaN</td>\n",
       "      <td>NaN</td>\n",
       "      <td>NaN</td>\n",
       "      <td>1530399540</td>\n",
       "      <td>78000.0</td>\n",
       "      <td>89999.0</td>\n",
       "      <td>83999.5</td>\n",
       "      <td>83999.5</td>\n",
       "      <td>FALSE</td>\n",
       "      <td>TRUE</td>\n",
       "    </tr>\n",
       "    <tr>\n",
       "      <th>247</th>\n",
       "      <td>326</td>\n",
       "      <td>1522237920</td>\n",
       "      <td>4.0</td>\n",
       "      <td>35-39</td>\n",
       "      <td>NaN</td>\n",
       "      <td>NaN</td>\n",
       "      <td>NaN</td>\n",
       "      <td>1546300740</td>\n",
       "      <td>16200.0</td>\n",
       "      <td>19799.0</td>\n",
       "      <td>17999.5</td>\n",
       "      <td>17999.5</td>\n",
       "      <td>FALSE</td>\n",
       "      <td>FALSE</td>\n",
       "    </tr>\n",
       "  </tbody>\n",
       "</table>\n",
       "</div>"
      ],
      "text/plain": [
       "     homeid  stdinstalltime  residents ageband1 ageband2 ageband3 ageband4  \\\n",
       "246     325      1522223820        4.0    45-49      NaN      NaN      NaN   \n",
       "247     326      1522237920        4.0    35-39      NaN      NaN      NaN   \n",
       "\n",
       "     studyperiod_end_time  income_YEARLY_band_low  income_YEARLY_band_high  \\\n",
       "246            1530399540                 78000.0                  89999.0   \n",
       "247            1546300740                 16200.0                  19799.0   \n",
       "\n",
       "     income_YEARLY_band_midpoint  equivalised_income_YEARLY_midpoint  \\\n",
       "246                      83999.5                             83999.5   \n",
       "247                      17999.5                             17999.5   \n",
       "\n",
       "    single_occ above_med_equiv_income  \n",
       "246      FALSE                   TRUE  \n",
       "247      FALSE                  FALSE  "
      ]
     },
     "execution_count": 176,
     "metadata": {},
     "output_type": "execute_result"
    }
   ],
   "source": [
    "home_data[home_data['residents']==4][home_data[home_data['residents']==4]['ageband4'].isnull()]"
   ]
  },
  {
   "cell_type": "markdown",
   "metadata": {},
   "source": [
    "There is conflict in row 246 and the row 247. In these two rows, the column `single_occ` shows that there are more than one person have income while in the columns of age bands it only appear one person's data. Therefore, there are some missing data."
   ]
  },
  {
   "cell_type": "code",
   "execution_count": 177,
   "metadata": {},
   "outputs": [],
   "source": [
    "home_data.iloc[246,4:7]='Missing ageband data'\n",
    "home_data.iloc[247,4:7]='Missing ageband data'"
   ]
  },
  {
   "cell_type": "markdown",
   "metadata": {},
   "source": [
    "In the column of residents, There are also missing some value."
   ]
  },
  {
   "cell_type": "code",
   "execution_count": 178,
   "metadata": {},
   "outputs": [
    {
     "data": {
      "text/html": [
       "<div>\n",
       "<style scoped>\n",
       "    .dataframe tbody tr th:only-of-type {\n",
       "        vertical-align: middle;\n",
       "    }\n",
       "\n",
       "    .dataframe tbody tr th {\n",
       "        vertical-align: top;\n",
       "    }\n",
       "\n",
       "    .dataframe thead th {\n",
       "        text-align: right;\n",
       "    }\n",
       "</style>\n",
       "<table border=\"1\" class=\"dataframe\">\n",
       "  <thead>\n",
       "    <tr style=\"text-align: right;\">\n",
       "      <th></th>\n",
       "      <th>homeid</th>\n",
       "      <th>stdinstalltime</th>\n",
       "      <th>residents</th>\n",
       "      <th>ageband1</th>\n",
       "      <th>ageband2</th>\n",
       "      <th>ageband3</th>\n",
       "      <th>ageband4</th>\n",
       "      <th>studyperiod_end_time</th>\n",
       "      <th>income_YEARLY_band_low</th>\n",
       "      <th>income_YEARLY_band_high</th>\n",
       "      <th>income_YEARLY_band_midpoint</th>\n",
       "      <th>equivalised_income_YEARLY_midpoint</th>\n",
       "      <th>single_occ</th>\n",
       "      <th>above_med_equiv_income</th>\n",
       "    </tr>\n",
       "  </thead>\n",
       "  <tbody>\n",
       "    <tr>\n",
       "      <th>101</th>\n",
       "      <td>171</td>\n",
       "      <td>1501756080</td>\n",
       "      <td>NaN</td>\n",
       "      <td>65-69</td>\n",
       "      <td>NaN</td>\n",
       "      <td>NaN</td>\n",
       "      <td>NaN</td>\n",
       "      <td>1530399540</td>\n",
       "      <td>13500.0</td>\n",
       "      <td>16199.0</td>\n",
       "      <td>14849.5</td>\n",
       "      <td>14849.5</td>\n",
       "      <td>Missing occupancy data</td>\n",
       "      <td>FALSE</td>\n",
       "    </tr>\n",
       "    <tr>\n",
       "      <th>117</th>\n",
       "      <td>187</td>\n",
       "      <td>1504522620</td>\n",
       "      <td>NaN</td>\n",
       "      <td>55-59</td>\n",
       "      <td>NaN</td>\n",
       "      <td>NaN</td>\n",
       "      <td>NaN</td>\n",
       "      <td>1546300740</td>\n",
       "      <td>27000.0</td>\n",
       "      <td>32399.0</td>\n",
       "      <td>29699.5</td>\n",
       "      <td>29699.5</td>\n",
       "      <td>Missing occupancy data</td>\n",
       "      <td>TRUE</td>\n",
       "    </tr>\n",
       "    <tr>\n",
       "      <th>145</th>\n",
       "      <td>219</td>\n",
       "      <td>1508159100</td>\n",
       "      <td>NaN</td>\n",
       "      <td>30-34</td>\n",
       "      <td>NaN</td>\n",
       "      <td>NaN</td>\n",
       "      <td>NaN</td>\n",
       "      <td>1521810000</td>\n",
       "      <td>78000.0</td>\n",
       "      <td>89999.0</td>\n",
       "      <td>83999.5</td>\n",
       "      <td>83999.5</td>\n",
       "      <td>Missing occupancy data</td>\n",
       "      <td>TRUE</td>\n",
       "    </tr>\n",
       "    <tr>\n",
       "      <th>153</th>\n",
       "      <td>228</td>\n",
       "      <td>1509091200</td>\n",
       "      <td>NaN</td>\n",
       "      <td>35-39</td>\n",
       "      <td>NaN</td>\n",
       "      <td>NaN</td>\n",
       "      <td>NaN</td>\n",
       "      <td>1546300740</td>\n",
       "      <td>66000.0</td>\n",
       "      <td>77999.0</td>\n",
       "      <td>71999.5</td>\n",
       "      <td>71999.5</td>\n",
       "      <td>Missing occupancy data</td>\n",
       "      <td>TRUE</td>\n",
       "    </tr>\n",
       "    <tr>\n",
       "      <th>196</th>\n",
       "      <td>271</td>\n",
       "      <td>1513244460</td>\n",
       "      <td>NaN</td>\n",
       "      <td>40-44</td>\n",
       "      <td>NaN</td>\n",
       "      <td>NaN</td>\n",
       "      <td>NaN</td>\n",
       "      <td>1546300740</td>\n",
       "      <td>48600.0</td>\n",
       "      <td>53999.0</td>\n",
       "      <td>51299.5</td>\n",
       "      <td>51299.5</td>\n",
       "      <td>Missing occupancy data</td>\n",
       "      <td>TRUE</td>\n",
       "    </tr>\n",
       "  </tbody>\n",
       "</table>\n",
       "</div>"
      ],
      "text/plain": [
       "     homeid  stdinstalltime  residents ageband1 ageband2 ageband3 ageband4  \\\n",
       "101     171      1501756080        NaN    65-69      NaN      NaN      NaN   \n",
       "117     187      1504522620        NaN    55-59      NaN      NaN      NaN   \n",
       "145     219      1508159100        NaN    30-34      NaN      NaN      NaN   \n",
       "153     228      1509091200        NaN    35-39      NaN      NaN      NaN   \n",
       "196     271      1513244460        NaN    40-44      NaN      NaN      NaN   \n",
       "\n",
       "     studyperiod_end_time  income_YEARLY_band_low  income_YEARLY_band_high  \\\n",
       "101            1530399540                 13500.0                  16199.0   \n",
       "117            1546300740                 27000.0                  32399.0   \n",
       "145            1521810000                 78000.0                  89999.0   \n",
       "153            1546300740                 66000.0                  77999.0   \n",
       "196            1546300740                 48600.0                  53999.0   \n",
       "\n",
       "     income_YEARLY_band_midpoint  equivalised_income_YEARLY_midpoint  \\\n",
       "101                      14849.5                             14849.5   \n",
       "117                      29699.5                             29699.5   \n",
       "145                      83999.5                             83999.5   \n",
       "153                      71999.5                             71999.5   \n",
       "196                      51299.5                             51299.5   \n",
       "\n",
       "                 single_occ above_med_equiv_income  \n",
       "101  Missing occupancy data                  FALSE  \n",
       "117  Missing occupancy data                   TRUE  \n",
       "145  Missing occupancy data                   TRUE  \n",
       "153  Missing occupancy data                   TRUE  \n",
       "196  Missing occupancy data                   TRUE  "
      ]
     },
     "execution_count": 178,
     "metadata": {},
     "output_type": "execute_result"
    }
   ],
   "source": [
    "home_data[home_data['residents'].isnull()]"
   ]
  },
  {
   "cell_type": "code",
   "execution_count": 179,
   "metadata": {},
   "outputs": [],
   "source": [
    "home_data.iloc[101,2]=1\n",
    "home_data.iloc[117,2]=1\n",
    "home_data.iloc[145,2]=1\n",
    "home_data.iloc[153,2]=1\n",
    "home_data.iloc[196,2]=1"
   ]
  },
  {
   "cell_type": "markdown",
   "metadata": {},
   "source": [
    "`Oct-14` and `5-Sep` in the column`ageband2`and `ageband3`could be the range (`10-14` and `5-9`) respectively. Next step is replace all of these in a correct way."
   ]
  },
  {
   "cell_type": "code",
   "execution_count": 180,
   "metadata": {},
   "outputs": [],
   "source": [
    "home_data = home_data.replace({'05-Sep':'5-9','Oct-14':'10-14'})"
   ]
  },
  {
   "cell_type": "markdown",
   "metadata": {},
   "source": [
    "**[Data Cleaning 4]** From the description of data owners, the last two columns in the basic information of householders are Boolean, but from the structure of the data there are two objects. Thus, it should be replaced."
   ]
  },
  {
   "cell_type": "code",
   "execution_count": 181,
   "metadata": {},
   "outputs": [],
   "source": [
    "isTrue = home_data['single_occ'] == 'TRUE'\n",
    "isFalse = home_data['single_occ'] == 'FALSE'\n",
    "isTrue = home_data['above_med_equiv_income'] == 'TRUE'\n",
    "isFalse = home_data['above_med_equiv_income'] == 'FALSE'"
   ]
  },
  {
   "cell_type": "code",
   "execution_count": 182,
   "metadata": {},
   "outputs": [],
   "source": [
    "measured_data['usingtime(mins)'] = (measured_data['endtime']-measured_data['starttime'])/60\n",
    "\n",
    "shower_data = measured_data[measured_data['appliancetype'] == 'electricshower']\n",
    "heater_data = measured_data[measured_data['appliancetype'] == 'electricheater']\n",
    "dehumidifier_data = measured_data[measured_data['appliancetype'] == 'dehumidifier']\n",
    "\n",
    "shower_data = shower_data.copy()\n",
    "heater_data = heater_data.copy()\n",
    "dehumidifier_data = dehumidifier_data.copy()"
   ]
  },
  {
   "cell_type": "markdown",
   "metadata": {},
   "source": [
    "### 2. How Large and Complext is It"
   ]
  },
  {
   "cell_type": "markdown",
   "metadata": {},
   "source": [
    "#### a) Rows/Colums\n",
    "- shower data have 1360 rows and 8 columns\n",
    "- heater data have 188 rows and 8 columns\n",
    "- dehumidifier data have 135 rows and 8 columns\n",
    "- the basic information of householders have 257 rows and 14 columns."
   ]
  },
  {
   "cell_type": "code",
   "execution_count": 183,
   "metadata": {},
   "outputs": [
    {
     "data": {
      "text/plain": [
       "(33513, 9)"
      ]
     },
     "execution_count": 183,
     "metadata": {},
     "output_type": "execute_result"
    }
   ],
   "source": [
    "measured_data.shape"
   ]
  },
  {
   "cell_type": "code",
   "execution_count": 184,
   "metadata": {},
   "outputs": [
    {
     "data": {
      "text/plain": [
       "(1360, 9)"
      ]
     },
     "execution_count": 184,
     "metadata": {},
     "output_type": "execute_result"
    }
   ],
   "source": [
    "shower_data.shape"
   ]
  },
  {
   "cell_type": "code",
   "execution_count": 185,
   "metadata": {},
   "outputs": [
    {
     "data": {
      "text/plain": [
       "(188, 9)"
      ]
     },
     "execution_count": 185,
     "metadata": {},
     "output_type": "execute_result"
    }
   ],
   "source": [
    "heater_data.shape"
   ]
  },
  {
   "cell_type": "code",
   "execution_count": 186,
   "metadata": {},
   "outputs": [
    {
     "data": {
      "text/plain": [
       "(135, 9)"
      ]
     },
     "execution_count": 186,
     "metadata": {},
     "output_type": "execute_result"
    }
   ],
   "source": [
    "dehumidifier_data.shape"
   ]
  },
  {
   "cell_type": "code",
   "execution_count": 187,
   "metadata": {},
   "outputs": [
    {
     "data": {
      "text/plain": [
       "(257, 14)"
      ]
     },
     "execution_count": 187,
     "metadata": {},
     "output_type": "execute_result"
    }
   ],
   "source": [
    "home_data.shape"
   ]
  },
  {
   "cell_type": "markdown",
   "metadata": {},
   "source": [
    "#### b) Size and Structure\n",
    "We can see the size and structure information of data as follow:"
   ]
  },
  {
   "cell_type": "code",
   "execution_count": 188,
   "metadata": {},
   "outputs": [
    {
     "name": "stdout",
     "output_type": "stream",
     "text": [
      "<class 'pandas.core.frame.DataFrame'>\n",
      "RangeIndex: 33513 entries, 0 to 33512\n",
      "Data columns (total 9 columns):\n",
      "useid              33513 non-null int64\n",
      "homeid             33513 non-null int64\n",
      "appliancetype      33513 non-null object\n",
      "applianceid        33513 non-null int64\n",
      "starttime          33513 non-null int64\n",
      "endtime            33513 non-null int64\n",
      "watthoursused      33513 non-null int64\n",
      "type               33513 non-null object\n",
      "usingtime(mins)    33513 non-null float64\n",
      "dtypes: float64(1), int64(6), object(2)\n",
      "memory usage: 2.3+ MB\n"
     ]
    }
   ],
   "source": [
    "measured_data.info()"
   ]
  },
  {
   "cell_type": "code",
   "execution_count": 189,
   "metadata": {},
   "outputs": [
    {
     "name": "stdout",
     "output_type": "stream",
     "text": [
      "<class 'pandas.core.frame.DataFrame'>\n",
      "RangeIndex: 257 entries, 0 to 256\n",
      "Data columns (total 14 columns):\n",
      "homeid                                257 non-null int64\n",
      "stdinstalltime                        257 non-null int64\n",
      "residents                             257 non-null float64\n",
      "ageband1                              257 non-null object\n",
      "ageband2                              205 non-null object\n",
      "ageband3                              107 non-null object\n",
      "ageband4                              51 non-null object\n",
      "studyperiod_end_time                  257 non-null int64\n",
      "income_YEARLY_band_low                247 non-null float64\n",
      "income_YEARLY_band_high               243 non-null float64\n",
      "income_YEARLY_band_midpoint           243 non-null float64\n",
      "equivalised_income_YEARLY_midpoint    243 non-null float64\n",
      "single_occ                            257 non-null object\n",
      "above_med_equiv_income                257 non-null object\n",
      "dtypes: float64(5), int64(3), object(6)\n",
      "memory usage: 28.2+ KB\n"
     ]
    }
   ],
   "source": [
    "home_data.info()"
   ]
  },
  {
   "cell_type": "markdown",
   "metadata": {},
   "source": [
    "#### c) Variation"
   ]
  },
  {
   "cell_type": "code",
   "execution_count": 190,
   "metadata": {},
   "outputs": [
    {
     "data": {
      "text/plain": [
       "useid              2.119159e+08\n",
       "homeid             4.884393e+03\n",
       "applianceid        1.174989e+06\n",
       "starttime          5.947702e+13\n",
       "endtime            5.947723e+13\n",
       "watthoursused      5.297412e+05\n",
       "usingtime(mins)    2.079746e+01\n",
       "dtype: float64"
      ]
     },
     "execution_count": 190,
     "metadata": {},
     "output_type": "execute_result"
    }
   ],
   "source": [
    "shower_data.var()"
   ]
  },
  {
   "cell_type": "code",
   "execution_count": 191,
   "metadata": {},
   "outputs": [
    {
     "data": {
      "text/plain": [
       "homeid                                6.428261e+03\n",
       "stdinstalltime                        1.492250e+14\n",
       "residents                             1.200906e+00\n",
       "studyperiod_end_time                  1.147253e+14\n",
       "income_YEARLY_band_low                5.993565e+08\n",
       "income_YEARLY_band_high               6.915122e+08\n",
       "income_YEARLY_band_midpoint           5.970975e+08\n",
       "equivalised_income_YEARLY_midpoint    2.628236e+08\n",
       "dtype: float64"
      ]
     },
     "execution_count": 191,
     "metadata": {},
     "output_type": "execute_result"
    }
   ],
   "source": [
    "home_data.var()"
   ]
  },
  {
   "cell_type": "markdown",
   "metadata": {},
   "source": [
    "### 3. What Fields and Data Types are Present"
   ]
  },
  {
   "cell_type": "markdown",
   "metadata": {},
   "source": [
    "#### a) Max/Min\n",
    "The maximum and minimum of `the measured data`:"
   ]
  },
  {
   "cell_type": "code",
   "execution_count": 192,
   "metadata": {},
   "outputs": [
    {
     "data": {
      "text/plain": [
       "useid                                 688592\n",
       "homeid                                   328\n",
       "appliancetype      washingmachinetumbledrier\n",
       "applianceid                             5447\n",
       "starttime                         1530398520\n",
       "endtime                           1530402360\n",
       "watthoursused                        1875098\n",
       "type                                measured\n",
       "usingtime(mins)                        21038\n",
       "dtype: object"
      ]
     },
     "execution_count": 192,
     "metadata": {},
     "output_type": "execute_result"
    }
   ],
   "source": [
    "measured_data.max()"
   ]
  },
  {
   "cell_type": "code",
   "execution_count": 193,
   "metadata": {},
   "outputs": [
    {
     "data": {
      "text/plain": [
       "useid                    627720\n",
       "homeid                       61\n",
       "appliancetype      dehumidifier\n",
       "applianceid                 940\n",
       "starttime            1498888680\n",
       "endtime              1498888860\n",
       "watthoursused                 0\n",
       "type                   measured\n",
       "usingtime(mins)               0\n",
       "dtype: object"
      ]
     },
     "execution_count": 193,
     "metadata": {},
     "output_type": "execute_result"
    }
   ],
   "source": [
    "measured_data.min()"
   ]
  },
  {
   "cell_type": "markdown",
   "metadata": {},
   "source": [
    "The maximum and minimum of `the basic information of households`:"
   ]
  },
  {
   "cell_type": "code",
   "execution_count": 194,
   "metadata": {},
   "outputs": [
    {
     "data": {
      "text/plain": [
       "homeid                                       335\n",
       "stdinstalltime                        1525095720\n",
       "residents                                      5\n",
       "ageband1                                     80+\n",
       "studyperiod_end_time                  1546300740\n",
       "income_YEARLY_band_low                    120000\n",
       "income_YEARLY_band_high                   119999\n",
       "income_YEARLY_band_midpoint               112500\n",
       "equivalised_income_YEARLY_midpoint       97499.5\n",
       "single_occ                                  TRUE\n",
       "above_med_equiv_income                      TRUE\n",
       "dtype: object"
      ]
     },
     "execution_count": 194,
     "metadata": {},
     "output_type": "execute_result"
    }
   ],
   "source": [
    "home_data.max()"
   ]
  },
  {
   "cell_type": "code",
   "execution_count": 195,
   "metadata": {},
   "outputs": [
    {
     "data": {
      "text/plain": [
       "homeid                                        47\n",
       "stdinstalltime                        1470787200\n",
       "residents                                      1\n",
       "ageband1                                   15-19\n",
       "studyperiod_end_time                  1491771600\n",
       "income_YEARLY_band_low                         0\n",
       "income_YEARLY_band_high                      600\n",
       "income_YEARLY_band_midpoint                  300\n",
       "equivalised_income_YEARLY_midpoint           200\n",
       "single_occ                                 FALSE\n",
       "above_med_equiv_income                     FALSE\n",
       "dtype: object"
      ]
     },
     "execution_count": 195,
     "metadata": {},
     "output_type": "execute_result"
    }
   ],
   "source": [
    "home_data.min()"
   ]
  },
  {
   "cell_type": "markdown",
   "metadata": {},
   "source": [
    "#### b) Levels for Categorical Values"
   ]
  },
  {
   "cell_type": "markdown",
   "metadata": {},
   "source": [
    "The levels for categorial values of `the measured data`:"
   ]
  },
  {
   "cell_type": "code",
   "execution_count": 196,
   "metadata": {},
   "outputs": [
    {
     "data": {
      "text/plain": [
       "useid              6.621010e+05\n",
       "homeid             1.460000e+02\n",
       "applianceid        2.089000e+03\n",
       "starttime          1.518869e+09\n",
       "endtime            1.518870e+09\n",
       "watthoursused      7.200000e+01\n",
       "usingtime(mins)    3.000000e+00\n",
       "dtype: float64"
      ]
     },
     "execution_count": 196,
     "metadata": {},
     "output_type": "execute_result"
    }
   ],
   "source": [
    "measured_data.median()"
   ]
  },
  {
   "cell_type": "code",
   "execution_count": 197,
   "metadata": {},
   "outputs": [
    {
     "data": {
      "text/plain": [
       "useid              6.621010e+05\n",
       "homeid             1.460000e+02\n",
       "applianceid        2.089000e+03\n",
       "starttime          1.518869e+09\n",
       "endtime            1.518870e+09\n",
       "watthoursused      7.200000e+01\n",
       "usingtime(mins)    3.000000e+00\n",
       "dtype: float64"
      ]
     },
     "execution_count": 197,
     "metadata": {},
     "output_type": "execute_result"
    }
   ],
   "source": [
    "measured_data.median()"
   ]
  },
  {
   "cell_type": "markdown",
   "metadata": {},
   "source": [
    "The levels for categorial values of `the basic information of house holders`:"
   ]
  },
  {
   "cell_type": "code",
   "execution_count": 198,
   "metadata": {},
   "outputs": [
    {
     "data": {
      "text/plain": [
       "homeid                                1.984241e+02\n",
       "stdinstalltime                        1.504508e+09\n",
       "residents                             2.443580e+00\n",
       "studyperiod_end_time                  1.538665e+09\n",
       "income_YEARLY_band_low                4.340648e+04\n",
       "income_YEARLY_band_high               4.922987e+04\n",
       "income_YEARLY_band_midpoint           4.568777e+04\n",
       "equivalised_income_YEARLY_midpoint    2.936361e+04\n",
       "dtype: float64"
      ]
     },
     "execution_count": 198,
     "metadata": {},
     "output_type": "execute_result"
    }
   ],
   "source": [
    "home_data.mean()"
   ]
  },
  {
   "cell_type": "code",
   "execution_count": 199,
   "metadata": {},
   "outputs": [
    {
     "data": {
      "text/plain": [
       "homeid                                2.000000e+02\n",
       "stdinstalltime                        1.506598e+09\n",
       "residents                             2.000000e+00\n",
       "studyperiod_end_time                  1.546301e+09\n",
       "income_YEARLY_band_low                4.320000e+04\n",
       "income_YEARLY_band_high               4.859900e+04\n",
       "income_YEARLY_band_midpoint           4.589950e+04\n",
       "equivalised_income_YEARLY_midpoint    2.699967e+04\n",
       "dtype: float64"
      ]
     },
     "execution_count": 199,
     "metadata": {},
     "output_type": "execute_result"
    }
   ],
   "source": [
    "home_data.median()"
   ]
  },
  {
   "cell_type": "markdown",
   "metadata": {},
   "source": [
    "### 4. Links between These Two Data"
   ]
  },
  {
   "cell_type": "markdown",
   "metadata": {},
   "source": [
    "From the first 5 rows of these two data, 'homeid' is the only link between these two data."
   ]
  },
  {
   "cell_type": "markdown",
   "metadata": {},
   "source": [
    "### 5. Summary statistics about the data"
   ]
  },
  {
   "cell_type": "code",
   "execution_count": 200,
   "metadata": {},
   "outputs": [
    {
     "data": {
      "text/plain": [
       "628.0"
      ]
     },
     "execution_count": 200,
     "metadata": {},
     "output_type": "execute_result"
    }
   ],
   "source": [
    "sum(home_data['residents'])"
   ]
  },
  {
   "cell_type": "markdown",
   "metadata": {},
   "source": [
    "These two data contains 33513 records of 14 kinds of appliances from 628 residents of 257 different homes over a year from 1 July 2017 to 30 June 2018. In my part of group work, There are 1360 rows of shower data, 188 rows of heater data, and 135 rows of dehumidifiers. \n",
    "\n",
    "In the measured data of different use ID, it has the information about:\n",
    "\n",
    "- useid\n",
    "- homeid\n",
    "- appliance type\n",
    "- start time & end time \n",
    "- watt-hour used\n",
    "\n",
    "In the home data of different home ID, it has infomation about:\n",
    "\n",
    "- homeid\n",
    "- residents number\n",
    "- age band\n",
    "- start installed time & end time \n",
    "- income"
   ]
  },
  {
   "cell_type": "markdown",
   "metadata": {},
   "source": [
    "## Part 2 - Explore"
   ]
  },
  {
   "cell_type": "code",
   "execution_count": 201,
   "metadata": {},
   "outputs": [],
   "source": [
    "import matplotlib.pyplot as plt\n",
    "import seaborn as sns\n",
    "%matplotlib inline      \n",
    "sns.set(style=\"darkgrid\")"
   ]
  },
  {
   "cell_type": "markdown",
   "metadata": {},
   "source": [
    "### Exploratory Visualisations - 1\n",
    "The distribution of energy usage which collected from electric shower."
   ]
  },
  {
   "cell_type": "code",
   "execution_count": 203,
   "metadata": {},
   "outputs": [
    {
     "data": {
      "image/png": "[encoded data removed]",
      "text/plain": [
       "<Figure size 432x288 with 1 Axes>"
      ]
     },
     "metadata": {},
     "output_type": "display_data"
    }
   ],
   "source": [
    "sns.distplot(shower_data['watthoursused'])\n",
    "plt.show()"
   ]
  },
  {
   "cell_type": "markdown",
   "metadata": {},
   "source": [
    "The plot above may related the distribution of shower time."
   ]
  },
  {
   "cell_type": "code",
   "execution_count": 204,
   "metadata": {},
   "outputs": [
    {
     "data": {
      "image/png": "[encoded data removed]",
      "text/plain": [
       "<Figure size 432x288 with 1 Axes>"
      ]
     },
     "metadata": {},
     "output_type": "display_data"
    }
   ],
   "source": [
    "sns.distplot(shower_data['usingtime(mins)'])\n",
    "plt.show()"
   ]
  },
  {
   "cell_type": "markdown",
   "metadata": {},
   "source": [
    "#### What I Found：\n",
    "\n",
    "There is positive skew in the distribution of watthoursused. The shower time are related with the energy which the participants used."
   ]
  },
  {
   "cell_type": "markdown",
   "metadata": {},
   "source": [
    "### Exploratory Visualisations - 2\n",
    "The plot shows the time using heater changed with time."
   ]
  },
  {
   "cell_type": "code",
   "execution_count": 205,
   "metadata": {},
   "outputs": [
    {
     "data": {
      "image/png": "[encoded data removed]",
      "text/plain": [
       "<Figure size 432x288 with 1 Axes>"
      ]
     },
     "metadata": {},
     "output_type": "display_data"
    }
   ],
   "source": [
    "ax = sns.lineplot( x='starttime', y=\"usingtime(mins)\",data=heater_data)\n",
    "plt.show()"
   ]
  },
  {
   "cell_type": "markdown",
   "metadata": {},
   "source": [
    "#### What I Found：\n",
    "The heater is used frequency in a period from around January to Appril."
   ]
  },
  {
   "cell_type": "markdown",
   "metadata": {},
   "source": [
    "### Exploratory Visualisations - 3\n",
    "the residents nambers in a home may have relationship with the average energy they used in shower."
   ]
  },
  {
   "cell_type": "code",
   "execution_count": 206,
   "metadata": {},
   "outputs": [
    {
     "data": {
      "text/plain": [
       "dict_keys([65, 90, 162, 175, 208, 225, 228, 227, 231, 249, 266, 259, 311, 73, 106, 145, 171])"
      ]
     },
     "execution_count": 206,
     "metadata": {},
     "output_type": "execute_result"
    }
   ],
   "source": [
    "a2 = {}.fromkeys(shower_data['homeid']).keys()\n",
    "a2"
   ]
  },
  {
   "cell_type": "code",
   "execution_count": 207,
   "metadata": {},
   "outputs": [
    {
     "data": {
      "text/plain": [
       "<matplotlib.axes._subplots.AxesSubplot at 0x7fd150efaeb8>"
      ]
     },
     "execution_count": 207,
     "metadata": {},
     "output_type": "execute_result"
    },
    {
     "data": {
      "image/png": "[encoded data removed]",
      "text/plain": [
       "<Figure size 432x288 with 1 Axes>"
      ]
     },
     "metadata": {},
     "output_type": "display_data"
    }
   ],
   "source": [
    "home_data['watt_mean']='NaN'\n",
    "# home_data[home_data['homeid']==65]\n",
    "# home_data.iloc[6,14]=b  \n",
    "a = [65, 90, 162, 175, 208, 225, 228, 227, 231, 249, 266, 259, 311, 73, 106, 145, 171]\n",
    "for x in a:\n",
    "    a = shower_data[shower_data['homeid']==x]\n",
    "    b = a['watthoursused'].mean()\n",
    "    home_data.loc[home_data['homeid'] == x,'watt_mean'] = b\n",
    "\n",
    "b = home_data[home_data['watt_mean']!='NaN']\n",
    "sns.scatterplot(x='residents', y='watt_mean', data= b)"
   ]
  },
  {
   "cell_type": "code",
   "execution_count": 208,
   "metadata": {},
   "outputs": [
    {
     "data": {
      "text/html": [
       "<div>\n",
       "<style scoped>\n",
       "    .dataframe tbody tr th:only-of-type {\n",
       "        vertical-align: middle;\n",
       "    }\n",
       "\n",
       "    .dataframe tbody tr th {\n",
       "        vertical-align: top;\n",
       "    }\n",
       "\n",
       "    .dataframe thead th {\n",
       "        text-align: right;\n",
       "    }\n",
       "</style>\n",
       "<table border=\"1\" class=\"dataframe\">\n",
       "  <thead>\n",
       "    <tr style=\"text-align: right;\">\n",
       "      <th></th>\n",
       "      <th>homeid</th>\n",
       "      <th>stdinstalltime</th>\n",
       "      <th>residents</th>\n",
       "      <th>ageband1</th>\n",
       "      <th>ageband2</th>\n",
       "      <th>ageband3</th>\n",
       "      <th>ageband4</th>\n",
       "      <th>studyperiod_end_time</th>\n",
       "      <th>income_YEARLY_band_low</th>\n",
       "      <th>income_YEARLY_band_high</th>\n",
       "      <th>income_YEARLY_band_midpoint</th>\n",
       "      <th>equivalised_income_YEARLY_midpoint</th>\n",
       "      <th>single_occ</th>\n",
       "      <th>above_med_equiv_income</th>\n",
       "      <th>watt_mean</th>\n",
       "    </tr>\n",
       "  </thead>\n",
       "  <tbody>\n",
       "    <tr>\n",
       "      <th>184</th>\n",
       "      <td>259</td>\n",
       "      <td>1512987420</td>\n",
       "      <td>2.0</td>\n",
       "      <td>25-29</td>\n",
       "      <td>25-29</td>\n",
       "      <td>NaN</td>\n",
       "      <td>NaN</td>\n",
       "      <td>1546300740</td>\n",
       "      <td>23400.0</td>\n",
       "      <td>26999.0</td>\n",
       "      <td>25199.5</td>\n",
       "      <td>16799.66667</td>\n",
       "      <td>FALSE</td>\n",
       "      <td>FALSE</td>\n",
       "      <td>98</td>\n",
       "    </tr>\n",
       "  </tbody>\n",
       "</table>\n",
       "</div>"
      ],
      "text/plain": [
       "     homeid  stdinstalltime  residents ageband1 ageband2 ageband3 ageband4  \\\n",
       "184     259      1512987420        2.0    25-29    25-29      NaN      NaN   \n",
       "\n",
       "     studyperiod_end_time  income_YEARLY_band_low  income_YEARLY_band_high  \\\n",
       "184            1546300740                 23400.0                  26999.0   \n",
       "\n",
       "     income_YEARLY_band_midpoint  equivalised_income_YEARLY_midpoint  \\\n",
       "184                      25199.5                         16799.66667   \n",
       "\n",
       "    single_occ above_med_equiv_income watt_mean  \n",
       "184      FALSE                  FALSE        98  "
      ]
     },
     "execution_count": 208,
     "metadata": {},
     "output_type": "execute_result"
    }
   ],
   "source": [
    "a = home_data[home_data['watt_mean']!='NaN']\n",
    "b = a[a['residents']==2]\n",
    "b[b['watt_mean']<250]"
   ]
  },
  {
   "cell_type": "code",
   "execution_count": 209,
   "metadata": {},
   "outputs": [
    {
     "data": {
      "text/html": [
       "<div>\n",
       "<style scoped>\n",
       "    .dataframe tbody tr th:only-of-type {\n",
       "        vertical-align: middle;\n",
       "    }\n",
       "\n",
       "    .dataframe tbody tr th {\n",
       "        vertical-align: top;\n",
       "    }\n",
       "\n",
       "    .dataframe thead th {\n",
       "        text-align: right;\n",
       "    }\n",
       "</style>\n",
       "<table border=\"1\" class=\"dataframe\">\n",
       "  <thead>\n",
       "    <tr style=\"text-align: right;\">\n",
       "      <th></th>\n",
       "      <th>useid</th>\n",
       "      <th>homeid</th>\n",
       "      <th>appliancetype</th>\n",
       "      <th>applianceid</th>\n",
       "      <th>starttime</th>\n",
       "      <th>endtime</th>\n",
       "      <th>watthoursused</th>\n",
       "      <th>type</th>\n",
       "      <th>usingtime(mins)</th>\n",
       "    </tr>\n",
       "  </thead>\n",
       "  <tbody>\n",
       "    <tr>\n",
       "      <th>24746</th>\n",
       "      <td>674244</td>\n",
       "      <td>259</td>\n",
       "      <td>electricshower</td>\n",
       "      <td>4143</td>\n",
       "      <td>1530178500</td>\n",
       "      <td>1530178560</td>\n",
       "      <td>98</td>\n",
       "      <td>measured</td>\n",
       "      <td>1.0</td>\n",
       "    </tr>\n",
       "  </tbody>\n",
       "</table>\n",
       "</div>"
      ],
      "text/plain": [
       "        useid  homeid   appliancetype  applianceid   starttime     endtime  \\\n",
       "24746  674244     259  electricshower         4143  1530178500  1530178560   \n",
       "\n",
       "       watthoursused      type  usingtime(mins)  \n",
       "24746             98  measured              1.0  "
      ]
     },
     "execution_count": 209,
     "metadata": {},
     "output_type": "execute_result"
    }
   ],
   "source": [
    "shower_data[shower_data['homeid']==259]"
   ]
  },
  {
   "cell_type": "markdown",
   "metadata": {},
   "source": [
    "#### What I Found:\n",
    "Only three home's average energy of shower are below 500, and these three family are all containing 2 members.\n",
    "For the outliers which average of energy below 250, there are only one recorde of their home. Thus, this home may missing some data.\n",
    "This plot should be shown in the format of boxplot, however, it only can show in the scatterplot format, since there are few data to show in that way.\n"
   ]
  },
  {
   "cell_type": "markdown",
   "metadata": {},
   "source": [
    "### Exploratory Visualisations - 4\n",
    "This part shows the size of the each age band."
   ]
  },
  {
   "cell_type": "code",
   "execution_count": 210,
   "metadata": {},
   "outputs": [
    {
     "data": {
      "text/plain": [
       "<matplotlib.axes._subplots.AxesSubplot at 0x7fd15107ffd0>"
      ]
     },
     "execution_count": 210,
     "metadata": {},
     "output_type": "execute_result"
    },
    {
     "data": {
      "image/png": "[encoded data removed]",
      "text/plain": [
       "<Figure size 432x288 with 1 Axes>"
      ]
     },
     "metadata": {},
     "output_type": "display_data"
    }
   ],
   "source": [
    "a=home_data['ageband1']\n",
    "b=home_data['ageband2']\n",
    "c=home_data['ageband3']\n",
    "d=home_data['ageband4']\n",
    "\n",
    "e=pd.concat([a,b,c,d])\n",
    "\n",
    "f=e.value_counts()\n",
    "count = pd.DataFrame(data=f)\n",
    "g=count.reset_index()\n",
    "g.columns = ['ageband', 'times']\n",
    "\n",
    "sns.set_color_codes(\"muted\")\n",
    "sns.barplot(x=\"times\",y=\"ageband\", data=g, color=\"b\")"
   ]
  },
  {
   "cell_type": "markdown",
   "metadata": {},
   "source": [
    "#### What I Found:\n",
    "The majority part of age band is 25-55. And there are few participants over 70."
   ]
  },
  {
   "cell_type": "markdown",
   "metadata": {},
   "source": [
    "### Exploratory Visualisations - 5\n",
    "This plot shows the relathionship between abge band and average income."
   ]
  },
  {
   "cell_type": "code",
   "execution_count": 211,
   "metadata": {},
   "outputs": [],
   "source": [
    "home_data.head()\n",
    "ageband_1 = home_data[\"ageband1\"].copy()\n",
    "re.split('-', ageband_1[5])\n",
    "n = ageband_1.shape[0]\n",
    "for i in range(n):\n",
    "    if(ageband_1[i] == \"80+\"):\n",
    "        ageband_1[i] = \"80\"\n",
    "    firstnumber = ageband_1[i].split(\"-\")[0]\n",
    "    firstnumber = int(firstnumber)\n",
    "    ageband_1[i] = firstnumber"
   ]
  },
  {
   "cell_type": "code",
   "execution_count": 212,
   "metadata": {},
   "outputs": [],
   "source": [
    "home_data[\"ageband1_int\"] = ageband_1"
   ]
  },
  {
   "cell_type": "code",
   "execution_count": 213,
   "metadata": {},
   "outputs": [
    {
     "data": {
      "text/plain": [
       "<matplotlib.axes._subplots.AxesSubplot at 0x7fd15176a160>"
      ]
     },
     "execution_count": 213,
     "metadata": {},
     "output_type": "execute_result"
    },
    {
     "data": {
      "image/png": "[encoded data removed]",
      "text/plain": [
       "<Figure size 432x288 with 1 Axes>"
      ]
     },
     "metadata": {},
     "output_type": "display_data"
    }
   ],
   "source": [
    "sns.scatterplot(x = ageband_1, y = home_data[\"equivalised_income_YEARLY_midpoint\"], data = home_data)"
   ]
  },
  {
   "cell_type": "markdown",
   "metadata": {},
   "source": [
    "#### What I Found:\n",
    "From the plot, there are no relationship between this two things."
   ]
  },
  {
   "cell_type": "markdown",
   "metadata": {},
   "source": [
    "## Part 3 - Reflect and Hypothesise"
   ]
  },
  {
   "cell_type": "markdown",
   "metadata": {},
   "source": [
    "- From the `Exploratory Visualisations - 1` distribution plot, the average energy, used by electric shower, is around 1000. And half of the show energy is lower than 1000. This may be influenced by the shower time of residents. The shower time distribution graph shows that more than half of the participants take a shower within 10 minutes. Few people will take a shower over 20 minutes. \n",
    "\n",
    "- From the `Exploratory Visualisations - 2`, the heater energy used by residents may be affected by the temperature of the day. The period of high frequency using heater may is in the winter. \n",
    "\n",
    "- From the `Exploratory Visualisations - 3`, the electronic usage of the shower below 1000 may have young children （0-5）and eldly(60+) people in the home, and one of residents may be on a business trip offen or study in the boarding school.\n",
    "\n",
    "​    **Hypothesis 1: ** in the `Exploratory Visualisations - 3` the 2-residents home which `watt_mean`under 500 may have low income. Expect some missing data; people may save some money by decrease the frequency of taking a shower. We can find the homeid to look up the income in home_data.\n",
    "\n",
    "​    **Hypothesis 2: **From the `Exploratory Visualisations - 3` 3-residents home's average energy of shower is around 1250 which may be closed to the medium of 2-residents home's shower energy using. It may because the third people is a child in young age who needs a few waters to shower. We can find the homid then use it to look up the age band from `home_data`.\n",
    "\n",
    "​    **Hypothesis 3:** in the `Exploratory Visualisations - 4`, it could be divided into two group, one is 25-55, and other. In my opinion, other's shower time is more than the shower. it is because there are many old and young people in this group then, It could more time to take care or these two kinds of people. "
   ]
  }
 ],
 "metadata": {
  "kernelspec": {
   "display_name": "Python 3",
   "language": "python",
   "name": "python3"
  },
  "language_info": {
   "codemirror_mode": {
    "name": "ipython",
    "version": 3
   },
   "file_extension": ".py",
   "mimetype": "text/x-python",
   "name": "python",
   "nbconvert_exporter": "python",
   "pygments_lexer": "ipython3",
   "version": "3.6.5"
  }
 },
 "nbformat": 4,
 "nbformat_minor": 2
}
